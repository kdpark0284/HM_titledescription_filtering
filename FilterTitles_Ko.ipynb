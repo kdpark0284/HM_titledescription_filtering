{
  "cells": [
    {
      "cell_type": "markdown",
      "metadata": {
        "id": "view-in-github",
        "colab_type": "text"
      },
      "source": [
        "<a href=\"https://colab.research.google.com/github/kdpark0284/HM_titledescription_filtering/blob/testing1/FilterTitles_Ko.ipynb\" target=\"_parent\"><img src=\"https://colab.research.google.com/assets/colab-badge.svg\" alt=\"Open In Colab\"/></a>"
      ]
    },
    {
      "cell_type": "markdown",
      "metadata": {
        "id": "qDYLTRK_Ia7t"
      },
      "source": [
        "# KoNLPy Start Up With Google Colab"
      ]
    },
    {
      "cell_type": "markdown",
      "metadata": {
        "id": "AbZlVXbsIjWx"
      },
      "source": [
        "## Install Dependencies"
      ]
    },
    {
      "cell_type": "code",
      "execution_count": null,
      "metadata": {
        "collapsed": true,
        "id": "UnUCE2weGmi_"
      },
      "outputs": [],
      "source": [
        "%%bash\n",
        "apt-get update\n",
        "apt-get install g++ openjdk-8-jdk python-dev python3-dev\n",
        "pip3 install JPype1\n",
        "pip3 install konlpy\n",
        "pip install openpyxl"
      ]
    },
    {
      "cell_type": "code",
      "execution_count": null,
      "metadata": {
        "collapsed": true,
        "id": "ebaapQPkGvqY"
      },
      "outputs": [],
      "source": [
        "%env JAVA_HOME \"/usr/lib/jvm/java-8-openjdk-amd64\""
      ]
    },
    {
      "cell_type": "markdown",
      "metadata": {
        "id": "MqjFwgcOMeT9"
      },
      "source": [
        "### Install Mecab (Takes 5min+ usually)"
      ]
    },
    {
      "cell_type": "code",
      "execution_count": null,
      "metadata": {
        "collapsed": true,
        "id": "_Ni_MNbyMdox"
      },
      "outputs": [],
      "source": [
        "! git clone https://github.com/SOMJANG/Mecab-ko-for-Google-Colab.git"
      ]
    },
    {
      "cell_type": "code",
      "execution_count": null,
      "metadata": {
        "collapsed": true,
        "id": "v5cjuboiGFDJ"
      },
      "outputs": [],
      "source": [
        "cd Mecab-ko-for-Google-Colab"
      ]
    },
    {
      "cell_type": "code",
      "execution_count": null,
      "metadata": {
        "collapsed": true,
        "id": "5rUcLbWEGFsU"
      },
      "outputs": [],
      "source": [
        "!bash install_mecab-ko_on_colab_light_220429.sh"
      ]
    },
    {
      "cell_type": "markdown",
      "metadata": {
        "id": "26qSuqNbIpiq"
      },
      "source": [
        "## (Test before using KoNLPy) -- Not Neccesary"
      ]
    },
    {
      "cell_type": "code",
      "execution_count": null,
      "metadata": {
        "id": "vTA-zty1HZ1J"
      },
      "outputs": [],
      "source": [
        "%%bash\n",
        "python3 -c \"import jpype; jpype.startJVM(convertStrings=True); print(jpype.isJVMStarted())\""
      ]
    },
    {
      "cell_type": "code",
      "execution_count": null,
      "metadata": {
        "id": "ei-S5_6ZHrYP"
      },
      "outputs": [],
      "source": [
        "%%bash\n",
        "pip3 install pytest\n",
        "TEST_DIR=$(mktemp -d -t test-XXXXXXXXXX)\n",
        "git clone https://github.com/konlpy/konlpy --depth=1 $TEST_DIR\n",
        "python3 -m pytest -v $TEST_DIR"
      ]
    },
    {
      "cell_type": "markdown",
      "metadata": {
        "id": "TX85aTLQLbIW"
      },
      "source": [
        "## Use KoNLPy Examples"
      ]
    },
    {
      "cell_type": "code",
      "execution_count": null,
      "metadata": {
        "id": "1my-kYf6LdHa"
      },
      "outputs": [],
      "source": [
        "# import konlpy\n",
        "# from konlpy.tag import Kkma, Komoran, Hannanum, Okt\n",
        "# from konlpy.utils import pprint\n",
        "# kkma = Kkma()\n",
        "# komoran = Komoran()\n",
        "# hannanum = Hannanum()\n",
        "# okt = Okt()\n",
        "# pprint(kkma.sentences(u'네, 안녕하세요. 반갑습니다.'))\n",
        "# pprint(komoran.nouns(u'질문이나 건의사항은 깃헙 이슈 트래커에 남겨주세요.'))\n",
        "# pprint(hannanum.pos(u'오류보고는 실행환경, 에러메세지와함께 설명을 최대한상세히!^^'))\n",
        "# pprint(okt.phrases(u'구글은 멋져요. 깃허브도 멋져요. KoNLPy도 멋져요!'))"
      ]
    },
    {
      "cell_type": "markdown",
      "source": [
        "If the installation of Mecab was successful, the code below will run well."
      ],
      "metadata": {
        "id": "YwulPsdIW3eK"
      }
    },
    {
      "cell_type": "code",
      "execution_count": null,
      "metadata": {
        "id": "nLFpnE9cLsod"
      },
      "outputs": [],
      "source": [
        "# import konlpy\n",
        "# from konlpy.utils import pprint\n",
        "# from konlpy.tag import Mecab\n",
        "# from konlpy.utils import pprint\n",
        "\n",
        "# mecab = Mecab()\n",
        "\n",
        "# text = \"삼성 갤럭시 탭 s8 울트라(6GB+1TB)스페이스블랙[자급제]\"\n",
        "# mecabnouns = mecab.nouns(text)\n",
        "# print(\"Mecab Nouns:\", mecabnouns)\n",
        "# mecabmorphs = mecab.morphs(text)\n",
        "# print(\"Mecab Morphs:\", mecabmorphs)\n",
        "# type(mecabmorphs)\n",
        "\n",
        "# # mecab.tagset"
      ]
    },
    {
      "cell_type": "markdown",
      "metadata": {
        "id": "fh5WDHYaV5QW"
      },
      "source": [
        "# Extraction Process (Read files, Extract Relevant Words)"
      ]
    },
    {
      "cell_type": "markdown",
      "source": [
        "## File Upload, Load Dependencies"
      ],
      "metadata": {
        "id": "Pe0fSlwybO5k"
      }
    },
    {
      "cell_type": "code",
      "source": [
        "import pandas as pd\n",
        "import re\n",
        "import openpyxl\n",
        "from konlpy.tag import Mecab\n",
        "from konlpy.utils import pprint\n",
        "from google.colab import files\n",
        "\n",
        "mecab = Mecab()\n",
        "uploaded_file = files.upload ()\n",
        "\n",
        "\"\"\"\n",
        "Excel 파일 업로드를 해주세요.\n",
        "Please upload an Excel file.\n",
        "\n",
        "\"\"\"\n",
        "\n",
        "df = pd.read_excel('Revised_Description_rev2.xlsx')\n",
        "\n",
        "\"\"\"\n",
        "Excel 파일 이름과 '일치'하게 해주세요.\n",
        "Please enter the file name and 'match' it.\n",
        "예시)\n",
        "test.xlsx 를 업로드한다면 \"df = pd.read_xlsx('test.xlsx')\"\n",
        "test.csv 를 업로드한다면 \"df = pd.read_csv('test.csv')\"\n",
        "To upload test.xlsx, please enter \"df = pd.read_xlsx('test.xlsx')\"\n",
        "To upload test.csv, please enter \"df = pd.read_csv('test.csv')\"\n",
        "\"\"\"\n"
      ],
      "metadata": {
        "id": "DlBYzsdqa3wR"
      },
      "execution_count": null,
      "outputs": []
    },
    {
      "cell_type": "markdown",
      "source": [
        "## Filter Lists"
      ],
      "metadata": {
        "id": "KLbna32b1bD2"
      }
    },
    {
      "cell_type": "code",
      "source": [
        "product_title = [\n",
        "                '갤럭시탭', '갤럭시노트', '갤럭시버즈','아이폰', '갤럭시', '프로', '울트라', '맥스', '아이패드', '에어팟', '플립', '폴드', '뮤패드', 'FE', 'FE+'\n",
        "                '북', '맥북', 'S', 'Ultra', 'M1', 'M2', 'M3', 'M4', 'M5', 'M6', 'M7', 'M8', 'M9', 'Pro', 'ProMax', '+', 'A',\n",
        "                'Galaxy', 'iPhone', 'iPad', 'MacBook', 'Zenbook', '그램', '에어', '스타일', '프로맥스', '미패드'\n",
        "                  ]\n",
        "\n",
        "product_type_dict = {\n",
        "    \"PC\" : \"IT\",\n",
        "    \"모바일\" : \"IT\",\n",
        "    \"태블릿\" : \"IT\",\n",
        "    \"노트북\" : \"IT\",\n",
        "    \"데스크탑\" : \"IT\",\n",
        "    \"NAFS\" : \"IT\",\n",
        "    \"백색\" : \"ETC\",\n",
        "    \"A/V\" : \"ETC\"\n",
        "}\n",
        "\n",
        "color_list = [\"문스톤그레이\", \"스페이스 그레이\", \"코스믹 그레이\", \"내추럴\", \"카밍 차콜\", \"카밍그린\", \"오로라화이트\", \"잉크웰그레이\",\n",
        "              \"스노우화이트\", \"새틴 화이트\", \"프라임 실버\", \"라벤더\", \"스페이스그레이\", \"루미다크실버\", \"미드나이트\", \"플래티넘실버\",\n",
        "              \"스페이스 블랙\", \"그라파이트\", \"매트블랙\", \"사파이어\", \"스타라이트\", \"이클립스그레이\", \"새틴화이트\", \"보라퍼플\",\n",
        "              \"글램화이트\", \"네이비블루\", \"메탈릭실버\", \"화이트실버\", \"카밍베이지\", \"페블 그레이\", \"블랙 메탈\", \"코타 화이트\",\n",
        "              \"코타 퍼플\", \"크림라벤더\", \"크림 화이트\", \"크림화이트\", \"코타 차콜\", \"실버글라스\", \"블랙 크롬메탈\", \"샤인베이지\",\n",
        "              \"에센셜화이트\", \"카밍그린\", \"크림레몬\", \"크림 그레이\", \"스페이스블랙\", \"실키크림\", \"샴페인골드\", \"실키오트밀\",\n",
        "              \"크림그레이\", \"다크그레이\", \"모닝 블루\", \"그레이스화이트\", \"미스티 화이트\", \"에센셜 블루 그레이\", \"옥스포드그레이\",\n",
        "              \"카밍클레이브라운\", \"사틴 차콜\", \"베르사유그레이\", \"매트블랙\", \"미스티라일락\", \"보타닉그린\", \"코튼플라워\", \"팬텀블랙\", \"시나모롤\", \"크림\",\n",
        "              \"라이트블루\", \"다크레드\", \"라이트그린\", \"라임\", \"핑크골드\", \"딥퍼플\", \"화이트 티타늄\", \"블루 티타늄\", \"블랙 티타늄\", \"내추럴 티타늄\",\n",
        "              \"실버\", \"베이지\", \"블랙\", \"화이트\", \"블루\", \"바이올렛\", \"옐로우\", \"그레이\", \"민트\", \"그린\", \"핑크\", \"퍼플\", \"차콜\", \"플래티넘\", \"옐로\", \"골드\", \"레드\",\n",
        "              \"Black\", \"White\", \"Red\", \"Blue\", \"Green\", \"Yellow\", \"Pink\", \"Gray\", \"Silver\", \"Spacegray\"]\n",
        "\n",
        "general_stopwords_list = [ '에듀몰', '해피투게딜', '자급제', '재고보유', '하이마트배송!', 'WQXGA +', '30만원대',\n",
        "                        '하이마트배송', '스태킹키트 포함', '스태킹키트 미포함', '한정판매', '한정수량', '온라인 전용', '1주이상소요/클리어런스', '스태킹/앵글',\n",
        "                        '셀프관리형', '신모델', '즉시배송', '신상', '앵글설치포함,별도비용발생', '하이마트 설치', '최대36개월무', '사은품 증정', '제주마지막1대', '직렬설치',\n",
        "                        '추가 다운로드 쿠폰', '국내정발', '빠른출발', '진열', '맞춤출수', '전시', '주연테크x하이메이드', '사내판매', '스태킹키트', '카드 추가',\n",
        "                        '본품', '배송지연', '6개월주기 방문관리형', '익일배송', 'UP가전', '특가', '뭉치면싸다', '1만 다운로드 쿠폰', '1주차', '발송예정', '스태킹설치',\n",
        "                        '사용안함', '스마트픽',  '미디어', '인버터', '정품OS', '단순배송', '2만원할인', '100원딜', '10대', '한정', '단독!', '단독', '추가 카드',\n",
        "                        'AppleCare+', '1주이상소요', '**',  'DDR5', 'DDR4', 'DDR6', '시력보호', '최신형', '운영', '스태이션 포함!', '추가 쿠폰', '스태킹', '앵글',\n",
        "                        '최종321만', '10대 한정판매',  '출고', '안드로이드', '배송시간 소요', '방문관리', 'i5.*?', 'i7.*?', 'win11', '20만원대', '링크!', '키트',\n",
        "                        '사은품 증정', '2주이상 소요', '동시구매행사용', '1만원할인', '할인', '신학기특가', '키트포함', '키트 포함', 'CPU', 'GPU', 'RTX', 'GTX',\n",
        "                        '각도조절형', '해피투게딜이벤트', '서랍형', '36개월케어십포함', '개별구매불가,본체만구매-자동취소', '전국무료설치', '8코어', '12코어', '16코어', '10코어',\n",
        "                        '한정수량', '단종', '소진', '특가', '포토상품평이벤트', '어메이징','3월', '4월', '5월', '6월', '7월', '2주이상소요', '3주이상소요', 'NEW', '가벼운',\n",
        "                        '8월', '9월', '10월', '11월', '12월', '1월', '2월', '행사', '1등급', '당질저감', '벽걸이조절형', '3년케어십', '초고온수', '기획전', '미포함', '포함',\n",
        "                        '음성인식', '청정바람', '자가관리', '셀프형', '6개월', '방문주기', '시크릿 !', '최대', '10%', '신모델', '공동구매', '하이마트', '1만 다운로드 쿠폰',\n",
        "                        '3개월', '창립기획', '단독모델', '스태킹설치포함', '자동먼지비움', '무빙키트' , '공기살균', '쇼핑몰', '상의5벌+하의1벌', '배송!', '외장', '외장그래픽',\n",
        "                        '전자동', '오프라인', '온라인', '전용', '6인용', '3인용', '개별구매불가 본체만구매-자동취소', '미세먼지극복', '병렬설치', '비밀', '앵글설치포함']"
      ],
      "metadata": {
        "id": "qCaRX7D71ayb"
      },
      "execution_count": null,
      "outputs": []
    },
    {
      "cell_type": "markdown",
      "source": [
        "## Exception functions"
      ],
      "metadata": {
        "id": "kikqoN2hpm3P"
      }
    },
    {
      "cell_type": "code",
      "source": [
        "# exceptions.py\n",
        "\n",
        "def handle_process_text_exceptions(func):\n",
        "    def wrapper(*args, **kwargs):\n",
        "        try:\n",
        "            return func(*args, **kwargs)\n",
        "        except AttributeError:\n",
        "            print(\"MeCab object 'mecab' is not defined or doesn't have 'morphs' method\")\n",
        "            return \"\", \"\"\n",
        "        except Exception as e:\n",
        "            print(f\"An error occurred in process_text: {str(e)}\")\n",
        "            return \"\", \"\"\n",
        "    return wrapper\n",
        "\n",
        "def handle_find_storage_exceptions(func):\n",
        "    def wrapper(*args, **kwargs):\n",
        "        try:\n",
        "            return func(*args, **kwargs)\n",
        "        except Exception as e:\n",
        "            print(f\"An error occurred in find_storage: {str(e)}\")\n",
        "            return 'N/A', 'N/A'\n",
        "    return wrapper"
      ],
      "metadata": {
        "id": "6V8KDEgsplyf"
      },
      "execution_count": null,
      "outputs": []
    },
    {
      "cell_type": "markdown",
      "source": [
        "## Definition"
      ],
      "metadata": {
        "id": "8nJJzoW4bVqI"
      }
    },
    {
      "cell_type": "code",
      "execution_count": null,
      "metadata": {
        "id": "YKfxICKZWBCc"
      },
      "outputs": [],
      "source": [
        "# @title\n",
        "# Data cleaning Func\n",
        "def cleaning_general(descriptions, serials, stopwords):\n",
        "    cleaned_descriptions = []\n",
        "    stopwords_set = set(stopwords)  # Convert the list to a set to remove duplicates\n",
        "\n",
        "    for description, serial in zip(descriptions, serials):\n",
        "        # Remove the serial number part\n",
        "        serial_part = re.search(r'[A-Z]+-[A-Z0-9]+', serial)\n",
        "        if serial_part:\n",
        "            description = re.sub(rf'\\[{re.escape(serial_part.group(0))}[^\\]]*\\]', '', description)\n",
        "\n",
        "        # Continue with the original cleaning\n",
        "        cleaned_description = re.sub(r'[^A-Za-z0-9ㄱ-ㅎㅏ-ㅣ가-힣+\\s²]', '', description)\n",
        "        for stopword in stopwords_set:\n",
        "            cleaned_description = cleaned_description.replace(stopword, '')\n",
        "\n",
        "        cleaned_descriptions.append(cleaned_description.strip())\n",
        "\n",
        "    return cleaned_descriptions\n",
        "\n",
        "# 제목 추출 함수\n",
        "@handle_process_text_exceptions\n",
        "def process_text(morphs, title_list):\n",
        "    if not isinstance(text, str):\n",
        "        raise TypeError(\"Input 'text' must be a string\")\n",
        "    if not isinstance(title_list, list):\n",
        "        raise TypeError(\"Input 'title_list' must be a list\")\n",
        "\n",
        "    title = ''\n",
        "    i = 0\n",
        "    while i < len(morphs):\n",
        "        if morphs[i] in title_list:\n",
        "            title += morphs[i]\n",
        "            i += 1\n",
        "            while i < len(morphs) and morphs[i].isdigit():\n",
        "                title += ' ' + morphs[i]\n",
        "                i += 1\n",
        "        else:\n",
        "            i += 1\n",
        "\n",
        "    return title.strip()\n",
        "\n",
        "@handle_find_storage_exceptions\n",
        "def find_storage(morphs):\n",
        "    if not isinstance(morphs, list):\n",
        "        raise TypeError(\"Input 'morphs' must be a list\")\n",
        "    storage = 'N/A'\n",
        "    for word in morphs:\n",
        "        if not isinstance(word, str):\n",
        "            continue\n",
        "        if word in ['64', '128', '256', '512', '1024']:\n",
        "            storage = f'{word}GB'\n",
        "        elif word in ['1TB', '2TB']:\n",
        "            storage = word\n",
        "    return storage\n",
        "\n",
        "# Attribute call Func\n",
        "def get_product_type(attributes, product_type_dict):\n",
        "    for key in product_type_dict.keys():\n",
        "        if key in attributes:\n",
        "            return product_type_dict[key]\n",
        "    return 'N/A'\n",
        "\n",
        "# Duplicated words removal\n",
        "def remove_duplicates(model_name, storage, ram, color):\n",
        "    for word in [storage, color]:\n",
        "        if word != 'N/A':\n",
        "            model_name = model_name.replace(word, '').strip()\n",
        "\n",
        "    return model_name\n",
        "\n",
        "# Color Extract Func\n",
        "def color_extraction(morphs,color_list):\n",
        "  color = next((word for word in morphs if word in color_list), 'N/A')\n",
        "  return color\n",
        "\n"
      ]
    },
    {
      "cell_type": "code",
      "source": [
        "# Dataframe Creation\n",
        "def create_dataframe(title, product_type_dict, serial, stopwords, color_list):\n",
        "  filtered_text = cleaning_general(title, serial, stopwords)  # Data Cleaning\n",
        "  extracted_title = pd.Series(dtype='object')\n",
        "  extracted_color = pd.Series(dtype='object')\n",
        "  extracted_storage = pd.Series(dtype='object')\n",
        "  mecab = Mecab()\n",
        "  for i in filtered_text:\n",
        "    mecabmorphs = mecab.morphs(i) # 형태소 추출\n",
        "    # 제목, 색상, 용량 형태소 추출\n",
        "    extracted_title.append(process_text(mecabmorphs, product_title))\n",
        "    extracted_color.append(color_extraction(mecabmorphs,color_list))\n",
        "    extracted_storage.append(find_storage(mecabmorphs))\n",
        "  cleaned_df = pd.DataFrame({'TITLE': extracted_title, 'COLOR': extracted_color, 'STORAGE': extracted_storage})\n",
        "  return"
      ],
      "metadata": {
        "id": "HUxcJ-tEF5fd"
      },
      "execution_count": null,
      "outputs": []
    },
    {
      "cell_type": "markdown",
      "source": [
        "# Add User Dictionary for Mecab"
      ],
      "metadata": {
        "id": "NdMMOX0YScuF"
      }
    },
    {
      "cell_type": "code",
      "source": [
        "cd /content/mecab-ko-dic-2.1.1-20180720"
      ],
      "metadata": {
        "id": "zCBnSR1BSk90"
      },
      "execution_count": null,
      "outputs": []
    },
    {
      "cell_type": "code",
      "source": [
        "!pip install jamo"
      ],
      "metadata": {
        "id": "R7yZsbUISzfA"
      },
      "execution_count": null,
      "outputs": []
    },
    {
      "cell_type": "code",
      "source": [
        "from jamo import h2j, j2hcj\n",
        "\n",
        "\n",
        "def get_jongsung_TF(sample_text):\n",
        "    sample_text_list = list(sample_text)\n",
        "    last_word = sample_text_list[-1]\n",
        "    last_word_jamo_list = list(j2hcj(h2j(last_word)))\n",
        "    last_jamo = last_word_jamo_list[-1]\n",
        "\n",
        "    jongsung_TF = \"T\"\n",
        "\n",
        "    if last_jamo in ['ㅏ', 'ㅑ', 'ㅓ', 'ㅕ', 'ㅗ', 'ㅛ', 'ㅜ', 'ㅠ', 'ㅡ', 'ㅣ', 'ㅘ', 'ㅚ', 'ㅙ', 'ㅝ', 'ㅞ', 'ㅢ', 'ㅐ,ㅔ', 'ㅟ', 'ㅖ', 'ㅒ']:\n",
        "        jongsung_TF = \"F\"\n",
        "\n",
        "    return jongsung_TF\n",
        "\n",
        "def make_user_dic_csv(morpheme_type, word_list, user_dic_file_name):\n",
        "  file_data = []\n",
        "\n",
        "  for word, score in word_list:\n",
        "    jongsung_TF = get_jongsung_TF(word)\n",
        "\n",
        "    line = f\"{word},,,{score},{morpheme_type},*,{jongsung_TF},{word},*,*,*,*,*\\n\"\n",
        "    # 단어, left-ID, right-ID, Weight, 품사, 의미분류, 종성유무, 읽기, 타입, 첫번째품사, 마지막품사, 표현\n",
        "    # https://openuiz.blogspot.com/2018/12/mecab-ko-dic.html\n",
        "\n",
        "    file_data.append(line)\n",
        "\n",
        "  with open(\"./user-dic/user-nnp.csv\", 'w', encoding='utf-8') as f:\n",
        "    for line in file_data:\n",
        "      f.write(line)"
      ],
      "metadata": {
        "id": "-8I8UdmkS1JN"
      },
      "execution_count": null,
      "outputs": []
    },
    {
      "cell_type": "code",
      "source": [
        "word_list = [('1TB', 0), ('2TB', 0),  ('미패드',0), ('Wi-Fi',0)]\n",
        "\n",
        "#  단어 추가 방법: ('원하는단어형태', 0) 를 대괄호 안에 넣어주세요. ( )엔 하나의 단어만 사용해주세요.\n",
        "#  Method to add a word: Insert ('desired_word_form', 0) inside the bracket. Use only one word inside the parentheses.\n",
        "#  Example) word_list = [('1TB', 0), ('2TB', 0)]\n",
        "\n",
        "make_user_dic_csv(morpheme_type=\"NNP\", word_list=word_list, user_dic_file_name='user-nnp.csv')\n",
        "\n",
        "with open(\"./user-dic/user-nnp.csv\", 'r', encoding='utf-8') as f:\n",
        "  file_new = f.readlines()\n",
        "file_new"
      ],
      "metadata": {
        "id": "MswYRu27S18M"
      },
      "execution_count": null,
      "outputs": []
    },
    {
      "cell_type": "code",
      "source": [
        "!bash autogen.sh"
      ],
      "metadata": {
        "id": "q42cXnn9TGjp"
      },
      "execution_count": null,
      "outputs": []
    },
    {
      "cell_type": "code",
      "source": [
        "!make"
      ],
      "metadata": {
        "id": "1vEM7zQcTQbo"
      },
      "execution_count": null,
      "outputs": []
    },
    {
      "cell_type": "code",
      "source": [
        "!sudo make install"
      ],
      "metadata": {
        "id": "md2NWzJVTRtg"
      },
      "execution_count": null,
      "outputs": []
    },
    {
      "cell_type": "code",
      "source": [
        "!bash tools/add-userdic.sh"
      ],
      "metadata": {
        "id": "FVKEKut7TStw"
      },
      "execution_count": null,
      "outputs": []
    },
    {
      "cell_type": "markdown",
      "source": [
        "# Code Execution"
      ],
      "metadata": {
        "id": "9kTFSuQ_ZKOJ"
      }
    },
    {
      "cell_type": "code",
      "source": [
        "serial_num = df[\"ATTRIBUTES__MODEL_NUMBER__VALUE__KR\"]\n",
        "title = df[\"DESCRIPTION\"]\n"
      ],
      "metadata": {
        "id": "FBVyShnUrFxR"
      },
      "execution_count": null,
      "outputs": []
    },
    {
      "cell_type": "markdown",
      "source": [
        "# Debugging / Testing"
      ],
      "metadata": {
        "id": "68f6pI3XQ0Zr"
      }
    },
    {
      "cell_type": "code",
      "source": [
        "mecab = Mecab()\n",
        "\n",
        "text = \"   쿠쿠 17인용 대용량  CR-1755B 전기보온 밥솥  \"\n",
        "mecabnouns = mecab.nouns(text)\n",
        "print(\"Mecab Nouns:\", mecabnouns)\n",
        "mecabmorphs = mecab.morphs(text)\n",
        "print(\"Mecab Morphs:\", mecabmorphs)\n",
        "# cleaned_morphs = cleaning_general(mecabmorphs, general_stopwords_list,serial)\n",
        "# print(cleaned_morphs)\n",
        "\n",
        "# print(find_storage(cleaned_morphs))\n",
        "# print(process_text(cleaned_morphs, product_title))\n",
        "# print(color_extraction(cleaned_morphs,color_list))"
      ],
      "metadata": {
        "colab": {
          "base_uri": "https://localhost:8080/"
        },
        "id": "WxcDO_qGQ5vZ",
        "outputId": "99f5e538-069b-4ad0-b3b3-9fa1fee1be25"
      },
      "execution_count": null,
      "outputs": [
        {
          "output_type": "stream",
          "name": "stdout",
          "text": [
            "Mecab Nouns: ['쿠쿠', '인용', '대용량', '전기', '보온', '밥솥']\n",
            "Mecab Morphs: ['쿠쿠', '17', '인용', '대용량', 'CR', '-', '1755', 'B', '전기', '보온', '밥솥']\n"
          ]
        }
      ]
    }
  ],
  "metadata": {
    "colab": {
      "provenance": [],
      "collapsed_sections": [
        "qDYLTRK_Ia7t"
      ],
      "authorship_tag": "ABX9TyOenVucnbJr7rYiFBxKLiN2",
      "include_colab_link": true
    },
    "kernelspec": {
      "display_name": "Python 3",
      "name": "python3"
    },
    "language_info": {
      "name": "python"
    }
  },
  "nbformat": 4,
  "nbformat_minor": 0
}