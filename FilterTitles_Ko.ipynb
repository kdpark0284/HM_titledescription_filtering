{
  "cells": [
    {
      "cell_type": "markdown",
      "metadata": {
        "id": "view-in-github",
        "colab_type": "text"
      },
      "source": [
        "<a href=\"https://colab.research.google.com/github/kdpark0284/HM_titledescription_filtering/blob/main/FilterTitles_Ko.ipynb\" target=\"_parent\"><img src=\"https://colab.research.google.com/assets/colab-badge.svg\" alt=\"Open In Colab\"/></a>"
      ]
    },
    {
      "cell_type": "markdown",
      "metadata": {
        "id": "qDYLTRK_Ia7t"
      },
      "source": [
        "# KoNLPy Start Up With Google Colab"
      ]
    },
    {
      "cell_type": "markdown",
      "metadata": {
        "id": "AbZlVXbsIjWx"
      },
      "source": [
        "## Install Dependencies"
      ]
    },
    {
      "cell_type": "code",
      "execution_count": null,
      "metadata": {
        "id": "UnUCE2weGmi_"
      },
      "outputs": [],
      "source": [
        "%%bash\n",
        "apt-get update\n",
        "apt-get install g++ openjdk-8-jdk python-dev python3-dev\n",
        "pip3 install JPype1\n",
        "pip3 install konlpy\n",
        "pip install openpyxl\n",
        "pip install rapidfuzz"
      ]
    },
    {
      "cell_type": "code",
      "execution_count": null,
      "metadata": {
        "collapsed": true,
        "id": "ebaapQPkGvqY"
      },
      "outputs": [],
      "source": [
        "%env JAVA_HOME \"/usr/lib/jvm/java-8-openjdk-amd64\""
      ]
    },
    {
      "cell_type": "markdown",
      "metadata": {
        "id": "MqjFwgcOMeT9"
      },
      "source": [
        "### Install Mecab (Takes 5min+ usually)"
      ]
    },
    {
      "cell_type": "code",
      "execution_count": null,
      "metadata": {
        "collapsed": true,
        "id": "_Ni_MNbyMdox"
      },
      "outputs": [],
      "source": [
        "! git clone https://github.com/SOMJANG/Mecab-ko-for-Google-Colab.git"
      ]
    },
    {
      "cell_type": "code",
      "execution_count": null,
      "metadata": {
        "collapsed": true,
        "id": "v5cjuboiGFDJ"
      },
      "outputs": [],
      "source": [
        "cd Mecab-ko-for-Google-Colab"
      ]
    },
    {
      "cell_type": "code",
      "execution_count": null,
      "metadata": {
        "collapsed": true,
        "id": "5rUcLbWEGFsU"
      },
      "outputs": [],
      "source": [
        "!bash install_mecab-ko_on_colab_light_220429.sh"
      ]
    },
    {
      "cell_type": "markdown",
      "metadata": {
        "id": "26qSuqNbIpiq"
      },
      "source": [
        "## (Test before using KoNLPy) -- Not Neccesary"
      ]
    },
    {
      "cell_type": "code",
      "execution_count": null,
      "metadata": {
        "id": "vTA-zty1HZ1J"
      },
      "outputs": [],
      "source": [
        "%%bash\n",
        "python3 -c \"import jpype; jpype.startJVM(convertStrings=True); print(jpype.isJVMStarted())\""
      ]
    },
    {
      "cell_type": "code",
      "execution_count": null,
      "metadata": {
        "id": "ei-S5_6ZHrYP"
      },
      "outputs": [],
      "source": [
        "%%bash\n",
        "pip3 install pytest\n",
        "TEST_DIR=$(mktemp -d -t test-XXXXXXXXXX)\n",
        "git clone https://github.com/konlpy/konlpy --depth=1 $TEST_DIR\n",
        "python3 -m pytest -v $TEST_DIR"
      ]
    },
    {
      "cell_type": "markdown",
      "metadata": {
        "id": "fh5WDHYaV5QW"
      },
      "source": [
        "# Extraction Process (Read files, Extract Relevant Words)"
      ]
    },
    {
      "cell_type": "markdown",
      "metadata": {
        "id": "NdMMOX0YScuF"
      },
      "source": [
        "## Add User Dictionary for Mecab"
      ]
    },
    {
      "cell_type": "code",
      "execution_count": null,
      "metadata": {
        "id": "zCBnSR1BSk90"
      },
      "outputs": [],
      "source": [
        "cd /content/mecab-ko-dic-2.1.1-20180720"
      ]
    },
    {
      "cell_type": "code",
      "execution_count": null,
      "metadata": {
        "id": "R7yZsbUISzfA"
      },
      "outputs": [],
      "source": [
        "!pip install jamo"
      ]
    },
    {
      "cell_type": "code",
      "execution_count": null,
      "metadata": {
        "id": "-8I8UdmkS1JN"
      },
      "outputs": [],
      "source": [
        "from jamo import h2j, j2hcj\n",
        "\n",
        "\n",
        "def get_jongsung_TF(sample_text):\n",
        "    sample_text_list = list(sample_text)\n",
        "    last_word = sample_text_list[-1]\n",
        "    last_word_jamo_list = list(j2hcj(h2j(last_word)))\n",
        "    last_jamo = last_word_jamo_list[-1]\n",
        "\n",
        "    jongsung_TF = \"T\"\n",
        "\n",
        "    if last_jamo in ['ㅏ', 'ㅑ', 'ㅓ', 'ㅕ', 'ㅗ', 'ㅛ', 'ㅜ', 'ㅠ', 'ㅡ', 'ㅣ', 'ㅘ', 'ㅚ', 'ㅙ', 'ㅝ', 'ㅞ', 'ㅢ', 'ㅐ,ㅔ', 'ㅟ', 'ㅖ', 'ㅒ']:\n",
        "        jongsung_TF = \"F\"\n",
        "\n",
        "    return jongsung_TF\n",
        "\n",
        "def make_user_dic_csv(morpheme_type, word_list, user_dic_file_name):\n",
        "  file_data = []\n",
        "\n",
        "  for word, score in word_list:\n",
        "    jongsung_TF = get_jongsung_TF(word)\n",
        "\n",
        "    line = f\"{word},,,{score},{morpheme_type},*,{jongsung_TF},{word},*,*,*,*,*\\n\"\n",
        "    # 단어, left-ID, right-ID, Weight, 품사, 의미분류, 종성유무, 읽기, 타입, 첫번째품사, 마지막품사, 표현\n",
        "    # https://openuiz.blogspot.com/2018/12/mecab-ko-dic.html\n",
        "\n",
        "    file_data.append(line)\n",
        "\n",
        "  with open(\"./user-dic/user-nnp.csv\", 'w', encoding='utf-8') as f:\n",
        "    for line in file_data:\n",
        "      f.write(line)"
      ]
    },
    {
      "cell_type": "code",
      "execution_count": null,
      "metadata": {
        "id": "MswYRu27S18M"
      },
      "outputs": [],
      "source": [
        "word_list = [('1TB', 0), ('2TB', 0),  ('미패드',0), ('Wi-Fi',0), ('다크레드',0), ('스타라이트',0), ('그라파이트', 0), ('미드나이트', 0), ('블루에어', 0), ('뮤패드', 0),\n",
        "              ('미스티라일락', 0), ('보타닉그린',0), ('코튼플라워', 0),('시나모롤',0), ('그레이그린', 0), ('펄 화이트', 0),('블루', 0),('미스트 블루', 0), ('그래비티 그레이',0)]\n",
        "\n",
        "#  단어 추가 방법: ('원하는단어형태', 0) 를 대괄호 안에 넣어주세요. ( )엔 하나의 단어만 사용해주세요.\n",
        "#  Method to add a word: Insert ('desired_word_form', 0) inside the bracket. Use only one word inside the parentheses.\n",
        "#  Example) word_list = [('1TB', 0), ('2TB', 0)]\n",
        "\n",
        "make_user_dic_csv(morpheme_type=\"NNP\", word_list=word_list, user_dic_file_name='user-nnp.csv')\n",
        "\n",
        "with open(\"./user-dic/user-nnp.csv\", 'r', encoding='utf-8') as f:\n",
        "  file_new = f.readlines()\n",
        "file_new\n",
        "\n",
        "!bash autogen.sh\n",
        "!make\n",
        "!sudo make install\n",
        "!bash tools/add-userdic.sh"
      ]
    },
    {
      "cell_type": "markdown",
      "metadata": {
        "id": "Pe0fSlwybO5k"
      },
      "source": [
        "## File Upload, Load Dependencies"
      ]
    },
    {
      "cell_type": "code",
      "source": [
        "from collections import Counter"
      ],
      "metadata": {
        "id": "SJ0vZQeCcNXa"
      },
      "execution_count": null,
      "outputs": []
    },
    {
      "cell_type": "code",
      "execution_count": null,
      "metadata": {
        "id": "DlBYzsdqa3wR"
      },
      "outputs": [],
      "source": [
        "import pandas as pd\n",
        "import re\n",
        "import openpyxl\n",
        "import pandas as pd\n",
        "import io\n",
        "from collections import Counter\n",
        "from konlpy.tag import Mecab\n",
        "from konlpy.utils import pprint\n",
        "from google.colab import files\n",
        "from rapidfuzz import fuzz, process\n",
        "\n",
        "mecab = Mecab()\n",
        "uploaded_file = files.upload ()\n",
        "\n",
        "\"\"\"\n",
        "Excel 파일 업로드를 해주세요.\n",
        "Please upload an Excel file.\n",
        "\n",
        "\"\"\"\n",
        "\n"
      ]
    },
    {
      "cell_type": "code",
      "execution_count": null,
      "metadata": {
        "id": "qznYSKFz7Qy9"
      },
      "outputs": [],
      "source": [
        "# 업로드된 파일 이름 가져오기\n",
        "file_name = next(iter(uploaded_file))\n",
        "\n",
        "# 업로드된 파일을 데이터프레임으로 읽기\n",
        "df = pd.read_excel(io.BytesIO(uploaded_file[file_name]))\n",
        "\n",
        "serial_num = df[\"ATTRIBUTES__MODEL_NUMBER__VALUE__KR\"]\n",
        "title = df[\"DESCRIPTION\"]\n",
        "attributes = df['TYPE__CODE']"
      ]
    },
    {
      "cell_type": "markdown",
      "metadata": {
        "id": "ZwUt98C_LZGO"
      },
      "source": [
        "기존에는 단어를 최소단위로 하여 필요한 요소를 추출했지만 띄어쓰기, 포맷등의 문제가 엃혀 필요한 단어를 파이썬에서 읽게 하는것이 힘들었음.\n",
        "\n",
        "MeCab이라는 한국어 형태소 분석 라이브러리를 사용하여 한국어의 최소단위인 형태소를 기반으로 제목, 용량, 색상을 추출하고자 함."
      ]
    },
    {
      "cell_type": "code",
      "source": [
        "!python3 --version"
      ],
      "metadata": {
        "id": "CU4XMqCZFjRF"
      },
      "execution_count": null,
      "outputs": []
    },
    {
      "cell_type": "markdown",
      "metadata": {
        "id": "KLbna32b1bD2"
      },
      "source": [
        "## Filter Lists"
      ]
    },
    {
      "cell_type": "code",
      "execution_count": null,
      "metadata": {
        "id": "qCaRX7D71ayb"
      },
      "outputs": [],
      "source": [
        "product_title = [\n",
        "                '갤럭시탭', '갤럭시노트', '갤럭시버즈','아이폰', '갤럭시', '프로', '울트라', '맥스', '아이패드', '에어팟', '플립', '폴드', '뮤패드', 'FE', 'FE+'\n",
        "                '북', '맥북', 'S', 'Ultra', 'M1', 'M2', 'M3', 'M4', 'M5', 'Pro', 'ProMax', 'A', 'Tab', '맥', '미니', '북', '아이맥', '플러스','Z','+',\n",
        "                'Galaxy', 'iPhone', 'iPad', 'MacBook', 'Zenbook', '그램', '에어', '스타일', '프로맥스', '미패드', 'Air', '탭', '노트', '버즈', 'AirPods',\n",
        "                'Flip', 'Fold', 'MuPad', 'FE', 'FE+', 'Lite', '서피스', '고', '울트라북', '스튜디오', '베이직'\n",
        "                  ]\n",
        "\n",
        "product_type_dict = {\n",
        "                      \"pc\" : \"IT\",\n",
        "                      \"mobilephone\" : \"IT\",\n",
        "                      \"tablet\" : \"IT\",\n",
        "                      \"laptop\" : \"IT\",\n",
        "}\n",
        "\n",
        "type_code_name = {\n",
        "    'refrigerator': '냉장고',\n",
        "    'refrigeratorsingledoor': '싱글도어냉장고',\n",
        "    'refrigeratortwodoor': '투도어냉장고',\n",
        "    'washingmachine': '세탁기',\n",
        "    'airconditioner': '에어컨',\n",
        "    'ricecooker':     '밥솥',\n",
        "    'vacuumcleaner':  '청소기',\n",
        "    'dishwasher':     '식기세척기',\n",
        "    'oven':           '오븐',\n",
        "    'microwave':      '전자레인지',\n",
        "    'coffeemachine':  '커피머신',\n",
        "    'kimchirefrigerator': '김치냉장고',\n",
        "    'dryer':          '건조기',\n",
        "    'airpurifier':    '공기청정기',\n",
        "    'razor':            '면도기',\n",
        "    'waterpurifier':   '정수기',\n",
        "    'monitor':          '모니터'\n",
        "    # 필요한 만큼 더 추가\n",
        "}\n",
        "\n",
        "color_list = [\"문스톤그레이\", \"스페이스 그레이\", \"코스믹 그레이\", \"내추럴\", \"카밍 차콜\", \"카밍그린\", \"오로라화이트\", \"잉크웰그레이\",\n",
        "              \"스노우화이트\", \"새틴 화이트\", \"프라임 실버\", \"라벤더\", \"스페이스그레이\", \"루미다크실버\", \"미드나이트\", \"플래티넘실버\",\n",
        "              \"스페이스 블랙\", \"그라파이트\", \"매트블랙\", \"사파이어\", \"스타라이트\", \"이클립스그레이\", \"새틴화이트\", \"보라퍼플\",\n",
        "              \"글램화이트\", \"네이비블루\", \"메탈릭실버\", \"화이트실버\", \"카밍베이지\", \"페블 그레이\", \"블랙 메탈\", \"코타 화이트\",\n",
        "              \"코타 퍼플\", \"크림라벤더\", \"크림 화이트\", \"크림화이트\", \"코타 차콜\", \"실버글라스\", \"블랙 크롬메탈\", \"샤인베이지\",\n",
        "              \"에센셜화이트\", \"카밍그린\", \"크림레몬\", \"크림 그레이\", \"스페이스블랙\", \"실키크림\", \"샴페인골드\", \"실키오트밀\", \"펄 화이트\",\n",
        "              \"크림그레이\", \"다크그레이\", \"모닝 블루\", \"그레이스화이트\", \"미스티 화이트\", \"에센셜 블루 그레이\", \"옥스포드그레이\", \"미스트 블루\", \"그래비티 그레이\",\n",
        "              \"카밍클레이브라운\", \"사틴 차콜\", \"베르사유그레이\", \"매트블랙\", \"미스티라일락\", \"보타닉그린\", \"코튼플라워\", \"팬텀블랙\", \"시나모롤\", \"크림\",\n",
        "              \"라이트블루\", \"다크레드\", \"라이트그린\", \"라임\", \"핑크골드\", \"딥퍼플\", \"화이트 티타늄\", \"블루 티타늄\", \"블랙 티타늄\", \"내추럴 티타늄\",\n",
        "              \"실버\", \"베이지\", \"블랙\", \"화이트\", \"블루\", \"바이올렛\", \"옐로우\", \"그레이\", \"민트\", \"그린\", \"핑크\", \"퍼플\", \"차콜\", \"플래티넘\", \"옐로\", \"골드\", \"레드\",\n",
        "              \"Black\", \"White\", \"Red\", \"Blue\", \"Green\", \"Yellow\", \"Pink\", \"Gray\", \"Silver\", \"Spacegray\", \"그레이그린\"]\n",
        "\n",
        "general_stopwords_list = [ '에듀몰', '해피투게딜', '자급제', '재고보유', '하이마트배송!', 'WQXGA +', '30만원대', '개별구매불가', '본체만구매', '자동취소', '1만','다운로드쿠폰',\n",
        "                        '하이마트배송', '스태킹키트 포함', '스태킹키트 미포함', '한정판매', '한정수량', '온라인 전용', '1주이상소요/클리어런스', '스태킹/앵글',\n",
        "                        '셀프관리형', '신모델', '즉시배송', '신상', '앵글설치포함,별도비용발생', '하이마트 설치', '최대36개월무', '사은품 증정', '제주마지막1대', '직렬설치',\n",
        "                        '추가 다운로드 쿠폰', '국내정발', '빠른출발', '진열', '맞춤출수', '전시', '주연테크x하이메이드', '사내판매', '스태킹키트', '카드 추가',\n",
        "                        '배송지연', '6개월주기 방문관리형', '익일배송', 'UP가전', '특가', '뭉치면싸다', '1만 다운로드 쿠폰', '1주차', '발송예정', '스태킹설치',\n",
        "                        '사용안함', '스마트픽',  '미디어', '인버터', '정품OS', '단순배송', '2만원할인', '100원딜', '10대', '한정', '단독!', '단독', '추가 카드',\n",
        "                        'AppleCare+', '1주이상소요', '**',  'DDR5', 'DDR4', 'DDR6', '시력보호', '최신형', '운영', '스태이션 포함!', '추가 쿠폰', '스태킹', '앵글',\n",
        "                        '최종321만', '10대 한정판매',  '출고', '안드로이드', '배송시간 소요', '방문관리', 'i5.*?', 'i7.*?', 'win11', '20만원대', '링크!', '키트',\n",
        "                        '사은품 증정', '2주이상 소요', '동시구매행사용', '1만원할인', '할인', '신학기특가', '키트포함', '키트 포함', 'CPU', 'GPU', 'RTX', 'GTX',\n",
        "                        '각도조절형', '해피투게딜이벤트', '서랍형', '36개월케어십포함', '개별구매불가,본체만구매-자동취소', '전국무료설치', '8코어', '12코어', '16코어', '10코어',\n",
        "                        '한정수량', '단종', '소진', '특가', '포토상품평이벤트', '어메이징','3월', '4월', '5월', '6월', '7월', '2주이상소요', '3주이상소요', 'NEW', '가벼운',\n",
        "                        '8월', '9월', '10월', '11월', '12월', '1월', '2월', '행사', '1등급', '당질저감', '벽걸이조절형', '3년케어십', '초고온수', '기획전', '미포함', '포함',\n",
        "                        '음성인식', '청정바람', '자가관리', '셀프형', '6개월', '방문주기', '시크릿 !', '최대', '10%', '신모델', '공동구매', '하이마트', '1만 다운로드 쿠폰',\n",
        "                        '3개월', '창립기획', '단독모델', '스태킹설치포함', '자동먼지비움', '무빙키트' , '공기살균', '쇼핑몰', '배송!', '외장', '외장그래픽',\n",
        "                        '전자동', '오프라인', '온라인', '전용', '개별구매불가 본체만구매-자동취소', '미세먼지극복', '병렬설치', '비밀', '앵글설치포함']"
      ]
    },
    {
      "cell_type": "markdown",
      "metadata": {
        "id": "kikqoN2hpm3P"
      },
      "source": [
        "## Exception functions"
      ]
    },
    {
      "cell_type": "code",
      "execution_count": null,
      "metadata": {
        "id": "6V8KDEgsplyf"
      },
      "outputs": [],
      "source": [
        "# exceptions.py\n",
        "\n",
        "def handle_process_text_exceptions(func):\n",
        "    def wrapper(*args, **kwargs):\n",
        "        try:\n",
        "            return func(*args, **kwargs)\n",
        "        except AttributeError:\n",
        "            print(\"MeCab object 'mecab' is not defined or doesn't have 'morphs' method\")\n",
        "            return \"\", \"\"\n",
        "        except Exception as e:\n",
        "            print(f\"An error occurred in process_text: {str(e)}\")\n",
        "            return \"\", \"\"\n",
        "    return wrapper\n",
        "\n",
        "def handle_find_storage_exceptions(func):\n",
        "    def wrapper(*args, **kwargs):\n",
        "        try:\n",
        "            return func(*args, **kwargs)\n",
        "        except Exception as e:\n",
        "            print(f\"An error occurred in find_storage: {str(e)}\")\n",
        "            return 'N/A', 'N/A'\n",
        "    return wrapper"
      ]
    },
    {
      "cell_type": "markdown",
      "metadata": {
        "id": "8nJJzoW4bVqI"
      },
      "source": [
        "## Functions"
      ]
    },
    {
      "cell_type": "code",
      "execution_count": null,
      "metadata": {
        "id": "U1geuHhXnel_"
      },
      "outputs": [],
      "source": [
        "def advanced_cleaning(descriptions, stopwords, color_list):\n",
        "    if isinstance(descriptions, str):\n",
        "        descriptions = [descriptions]\n",
        "\n",
        "    stopwords_set = set(stopwords)\n",
        "    stopwords_pattern = re.compile(r'\\b(' + '|'.join(re.escape(sw) for sw in stopwords_set) + r')\\b', re.IGNORECASE)\n",
        "\n",
        "    cleaned_descriptions = []\n",
        "\n",
        "    for description in descriptions:\n",
        "        if '점]' in description:\n",
        "            description = description.split('점]')[-1]\n",
        "\n",
        "        # 모든 알파벳을 대문자로 변환\n",
        "        description = description.upper()\n",
        "\n",
        "        # 괄호 내용 처리\n",
        "        description, bracket_storage, bracket_color = process_brackets(description, color_list)\n",
        "\n",
        "        # 일반 텍스트에서 용량 및 색상 추출\n",
        "        general_storage = find_storage1(description)\n",
        "        general_color = color_extraction1(description, color_list)\n",
        "\n",
        "        # 최종 용량 및 색상 결정\n",
        "        storage = bracket_storage if bracket_storage != 'N/A' else general_storage\n",
        "        color = bracket_color if bracket_color != 'N/A' else general_color\n",
        "\n",
        "        # 불용어 및 특수 문자 제거\n",
        "        description = re.sub(r'[^A-Z0-9ㄱ-ㅎㅏ-ㅣ가-힣+\\s²-]', ' ', description)\n",
        "        description = stopwords_pattern.sub('', description)\n",
        "\n",
        "        # 추가 정제: 연속된 공백 제거\n",
        "        description = re.sub(r'\\s+', ' ', description).strip()\n",
        "\n",
        "        cleaned_descriptions.append({\n",
        "            'cleaned_text': description,\n",
        "            'storage': storage,\n",
        "            'color': color\n",
        "        })\n",
        "\n",
        "    return cleaned_descriptions if len(cleaned_descriptions) > 1 else cleaned_descriptions[0]\n",
        "\n",
        "def process_brackets(text, color_list):\n",
        "    storage = 'N/A'\n",
        "    color = 'N/A'\n",
        "\n",
        "    def extract_from_bracket(match):\n",
        "        nonlocal storage, color\n",
        "        content = match.group(0)  # 괄호 내용 전체 캡처\n",
        "        bracket_storage = find_storage1(content)\n",
        "        bracket_color = color_extraction1(content, color_list)\n",
        "        if bracket_storage != 'N/A':\n",
        "            storage = bracket_storage\n",
        "        if bracket_color != 'N/A':\n",
        "            color = bracket_color\n",
        "        return ''  # 괄호 내용과 괄호 기호 제거\n",
        "\n",
        "    # 괄호 내용 처리\n",
        "    bracket_pattern = r'[\\(\\[\\{][^\\)\\]\\}]+[\\)\\]\\}]'\n",
        "    text = re.sub(bracket_pattern, extract_from_bracket, text)\n",
        "\n",
        "    return text, storage, color\n",
        "\n",
        "def find_storage1(text):\n",
        "    if not isinstance(text, str):\n",
        "        raise TypeError(\"Input 'text' must be a string\")\n",
        "    storage_patterns = [\n",
        "        r'(?:\\d+\\s*[GT]B\\s*\\+\\s*)*(\\d+)\\s*([GT]B)',\n",
        "        r'(\\d+)\\s*([GT]B)',\n",
        "        r'(\\d+)\\s*(G)'\n",
        "    ]\n",
        "    for pattern in storage_patterns:\n",
        "        match = re.search(pattern, text, re.IGNORECASE)\n",
        "        if match:\n",
        "            storage_value = int(match.group(1))\n",
        "            storage_unit = match.group(2).upper()\n",
        "            if storage_unit == 'TB':\n",
        "                storage_value *= 1024\n",
        "            if storage_value < 64:\n",
        "                return 'N/A'\n",
        "            else:\n",
        "                return f'{storage_value}GB'\n",
        "    return 'N/A'\n",
        "\n",
        "def color_extraction1(text, color_list):\n",
        "    color_pattern = r'\\b(' + '|'.join(re.escape(color) for color in color_list) + r')\\b'\n",
        "    match = re.search(color_pattern, text, re.IGNORECASE)\n",
        "    if match:\n",
        "        return match.group(1)\n",
        "    else:\n",
        "        return 'N/A'\n",
        "\n",
        "# Attribute call Func\n",
        "def get_product_type(attributes, product_type_dict):\n",
        "    def classify_type(attribute):\n",
        "        if attribute in product_type_dict:\n",
        "            return product_type_dict[attribute]\n",
        "        else:\n",
        "            return 'ETC'\n",
        "\n",
        "    return attributes.map(classify_type)\n",
        "\n",
        "\n",
        "# ETC 제목 추출 함수\n",
        "@handle_process_text_exceptions\n",
        "def title_ETC(description):\n",
        "    name = description\n",
        "    return name\n",
        "\n",
        "\n",
        "# IT 제목 추출 함수\n",
        "@handle_process_text_exceptions\n",
        "def process_text(morphs, title_list):\n",
        "    if not isinstance(morphs, list):\n",
        "        raise TypeError(\"Input 'morphs' must be a list\")\n",
        "    if not isinstance(title_list, list):\n",
        "        raise TypeError(\"Input 'title_list' must be a list\")\n",
        "\n",
        "    title = []\n",
        "    i = 0\n",
        "    plus_used = False\n",
        "    while i < len(morphs):\n",
        "        if morphs[i] in title_list:\n",
        "            title.append(morphs[i])\n",
        "            i += 1\n",
        "            if i < len(morphs) and morphs[i].isdigit():\n",
        "                title.append(morphs[i])\n",
        "                i += 1\n",
        "            if i < len(morphs) and morphs[i] == '+' and not plus_used:\n",
        "                title.append(morphs[i])\n",
        "                plus_used = True\n",
        "                i += 1\n",
        "        else:\n",
        "            i += 1\n",
        "\n",
        "    return ''.join(title).strip()"
      ]
    },
    {
      "cell_type": "code",
      "execution_count": null,
      "metadata": {
        "id": "poKWeUlyEb1v"
      },
      "outputs": [],
      "source": [
        "def create_dataframe_advanced(df, title, product_type_dict, stopwords, color_list, attribute):\n",
        "    filtered_text = advanced_cleaning(title, stopwords, color_list)  # Data Cleaning\n",
        "\n",
        "    extracted_title = []\n",
        "    extracted_color = []\n",
        "    extracted_storage = []\n",
        "    mecab = Mecab()\n",
        "\n",
        "    # Get product types for all items at once\n",
        "    product_types = get_product_type(attribute, product_type_dict)\n",
        "\n",
        "    for text, product_type in zip(filtered_text, product_types):\n",
        "        if product_type == 'IT':\n",
        "            mecabmorphs = mecab.morphs(text['cleaned_text'])  # 형태소 추출\n",
        "            # 제목 형태소 추출\n",
        "            extracted_title_temp = process_text(mecabmorphs, product_title)\n",
        "            if len(extracted_title_temp.split()) <= 2:  # 추출된 제목이 2단어 이하인 경우\n",
        "                extracted_title.append(text['cleaned_text'])  # 정제된 텍스트 사용\n",
        "            else:\n",
        "                extracted_title.append(extracted_title_temp)\n",
        "            extracted_color.append(text['color'])\n",
        "            extracted_storage.append(text['storage'])\n",
        "        else:\n",
        "            extracted_title.append(title_ETC(text['cleaned_text']))\n",
        "            extracted_color.append(text['color'])\n",
        "            extracted_storage.append('N/A')\n",
        "\n",
        "    # 제목에서 색상과 용량 정보 제거\n",
        "    for i in range(len(extracted_title)):\n",
        "        if extracted_color[i] != 'N/A':\n",
        "            extracted_title[i] = extracted_title[i].replace(extracted_color[i], '').strip()\n",
        "        if extracted_storage[i] != 'N/A':\n",
        "            extracted_title[i] = extracted_title[i].replace(extracted_storage[i], '').strip()\n",
        "\n",
        "    # Convert lists to Series\n",
        "    extracted_title = pd.Series(extracted_title)\n",
        "    extracted_color = pd.Series(extracted_color)\n",
        "    extracted_storage = pd.Series(extracted_storage)\n",
        "    extracted_type = pd.Series(product_types)\n",
        "    original_title = pd.Series(df[\"DESCRIPTION\"])\n",
        "    dfattributes = pd.Series(attribute)\n",
        "\n",
        "    cleaned_df = pd.DataFrame({\n",
        "        'COLOR': extracted_color,\n",
        "        'STORAGE': extracted_storage,\n",
        "        'Type': extracted_type,\n",
        "        'Classification' : dfattributes,\n",
        "        'Original': original_title,\n",
        "        'TITLE': extracted_title\n",
        "        })\n",
        "\n",
        "    return cleaned_df"
      ]
    },
    {
      "cell_type": "code",
      "source": [
        "def custom_ratio(s1, s2, score_cutoff=0):\n",
        "    # 공백을 제거한 문자열로 비교하되, 원본 문자열은 변경하지 않음\n",
        "    return fuzz.ratio(s1.replace(\" \", \"\"), s2.replace(\" \", \"\"), score_cutoff=score_cutoff)\n",
        "\n",
        "def group_products(df, it_threshold=96, etc_threshold=95):\n",
        "    # IT / ETC 제품간 임계값 설정\n",
        "    product_names = df['TITLE'].tolist()\n",
        "    grouped_names = []\n",
        "    scores = []\n",
        "\n",
        "    for index, row in df.iterrows():\n",
        "        threshold = it_threshold if row['Type'] == 'IT' else etc_threshold\n",
        "\n",
        "        product_name = row['TITLE']\n",
        "        best_match = None\n",
        "        best_score = 0\n",
        "\n",
        "        for grouped_name in grouped_names:\n",
        "            score = custom_ratio(product_name, grouped_name)\n",
        "            if score >= threshold and score > best_score:\n",
        "                best_match = grouped_name\n",
        "                best_score = score\n",
        "\n",
        "        if best_match:\n",
        "            grouped_names.append(best_match)\n",
        "            scores.append(best_score)\n",
        "        else:\n",
        "            grouped_names.append(product_name)\n",
        "            scores.append(100)\n",
        "\n",
        "    df['Grouped Name'] = grouped_names\n",
        "    df['Score'] = scores\n",
        "    return df\n",
        "\n",
        "def update_grouped_titles(df):\n",
        "    # Get unique group names\n",
        "    unique_group_names = df['Grouped Name'].unique()\n",
        "\n",
        "    # Create a dictionary to store representative names for each group\n",
        "    representative_names = {}\n",
        "\n",
        "    for group_name in unique_group_names:\n",
        "        # Get rows belonging to the current group\n",
        "        group = df[df['Grouped Name'] == group_name]\n",
        "\n",
        "        # Count the frequency of each title within the group\n",
        "        title_counts = group['TITLE'].value_counts()\n",
        "\n",
        "        # Select the most frequent title as the representative name\n",
        "        representative_name = title_counts.index[0]\n",
        "\n",
        "        # Store the representative name for the current group\n",
        "        representative_names[group_name] = representative_name\n",
        "\n",
        "    # Update the 'Grouped Name' column with representative names\n",
        "    df['Grouped Name'] = df['Grouped Name'].map(representative_names)\n",
        "\n",
        "    # Calculate the score between original title and representative name\n",
        "    df['Score'] = df.apply(lambda row: custom_ratio(row['TITLE'], row['Grouped Name']), axis=1)\n",
        "\n",
        "    # Check if the title has been modified\n",
        "    df['Modified'] = df['TITLE'] != df['Grouped Name']\n",
        "\n",
        "    return df\n",
        "\n",
        "\n",
        "\n",
        "def main(Filtered_DF):\n",
        "    # Group similar product titles\n",
        "    grouped_df = group_products(Filtered_DF)\n",
        "\n",
        "    # Update grouped titles with the most frequent unique title as the representative title\n",
        "    updated_df = update_grouped_titles(grouped_df)\n",
        "\n",
        "    return updated_df"
      ],
      "metadata": {
        "id": "KMdK7-mXb-xn"
      },
      "execution_count": null,
      "outputs": []
    },
    {
      "cell_type": "code",
      "execution_count": null,
      "metadata": {
        "id": "FBVyShnUrFxR"
      },
      "outputs": [],
      "source": [
        "Filtered_DF = create_dataframe_advanced(df, title, product_type_dict, general_stopwords_list, color_list,attributes)\n",
        "updated_df = main(Filtered_DF)\n",
        "updated_df.to_excel('Grouping_Titles.xlsx', index=False)\n",
        "files.download('Grouping_Titles.xlsx')"
      ]
    },
    {
      "cell_type": "code",
      "source": [
        "updated_df.Classification.unique()"
      ],
      "metadata": {
        "id": "20o2xzd9ZrcQ"
      },
      "execution_count": null,
      "outputs": []
    },
    {
      "cell_type": "code",
      "source": [
        "updated_df.head()\n",
        "\n",
        "\n",
        "list_for_df = []\n",
        "for i in list(updated_df.Classification.unique()):\n",
        "    _df = updated_df[(updated_df['Classification'] == i) & (updated_df['Score'] != 100)].head()\n",
        "    if not _df.empty:\n",
        "        list_for_df.append(_df)\n"
      ],
      "metadata": {
        "id": "4kAirigzY96J"
      },
      "execution_count": null,
      "outputs": []
    },
    {
      "cell_type": "markdown",
      "metadata": {
        "id": "9kTFSuQ_ZKOJ"
      },
      "source": [
        "# Code Execution"
      ]
    },
    {
      "cell_type": "code",
      "source": [
        "# files.download('Grouping_Titles.xlsx')"
      ],
      "metadata": {
        "id": "jrTkyc9ifWpH"
      },
      "execution_count": null,
      "outputs": []
    },
    {
      "cell_type": "code",
      "source": [
        "# pd.concat(list_for_df).to_excel('result.xlsx', index=False)\n",
        "# files.download('result.xlsx')\n"
      ],
      "metadata": {
        "id": "c5lCmDSZZmZv"
      },
      "execution_count": null,
      "outputs": []
    }
  ],
  "metadata": {
    "colab": {
      "collapsed_sections": [
        "qDYLTRK_Ia7t",
        "NdMMOX0YScuF"
      ],
      "provenance": [],
      "include_colab_link": true
    },
    "kernelspec": {
      "display_name": "Python 3",
      "name": "python3"
    },
    "language_info": {
      "name": "python"
    }
  },
  "nbformat": 4,
  "nbformat_minor": 0
}