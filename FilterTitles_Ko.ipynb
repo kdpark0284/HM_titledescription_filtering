{
  "cells": [
    {
      "cell_type": "markdown",
      "metadata": {
        "id": "view-in-github",
        "colab_type": "text"
      },
      "source": [
        "<a href=\"https://colab.research.google.com/github/kdpark0284/filtering_titles/blob/main/FilterTitles_Ko.ipynb\" target=\"_parent\"><img src=\"https://colab.research.google.com/assets/colab-badge.svg\" alt=\"Open In Colab\"/></a>"
      ]
    },
    {
      "cell_type": "markdown",
      "metadata": {
        "id": "qDYLTRK_Ia7t"
      },
      "source": [
        "# KoNLPy Start Up With Google Colab"
      ]
    },
    {
      "cell_type": "markdown",
      "metadata": {
        "id": "AbZlVXbsIjWx"
      },
      "source": [
        "## Install Dependencies"
      ]
    },
    {
      "cell_type": "code",
      "execution_count": null,
      "metadata": {
        "collapsed": true,
        "id": "UnUCE2weGmi_"
      },
      "outputs": [],
      "source": [
        "%%bash\n",
        "apt-get update\n",
        "apt-get install g++ openjdk-8-jdk python-dev python3-dev\n",
        "pip3 install JPype1\n",
        "pip3 install konlpy"
      ]
    },
    {
      "cell_type": "code",
      "execution_count": null,
      "metadata": {
        "collapsed": true,
        "id": "ebaapQPkGvqY"
      },
      "outputs": [],
      "source": [
        "%env JAVA_HOME \"/usr/lib/jvm/java-8-openjdk-amd64\""
      ]
    },
    {
      "cell_type": "markdown",
      "metadata": {
        "id": "MqjFwgcOMeT9"
      },
      "source": [
        "### Install Mecab (Takes 5min+ usually)"
      ]
    },
    {
      "cell_type": "code",
      "execution_count": null,
      "metadata": {
        "collapsed": true,
        "id": "_Ni_MNbyMdox"
      },
      "outputs": [],
      "source": [
        "! git clone https://github.com/SOMJANG/Mecab-ko-for-Google-Colab.git"
      ]
    },
    {
      "cell_type": "code",
      "execution_count": null,
      "metadata": {
        "collapsed": true,
        "id": "v5cjuboiGFDJ"
      },
      "outputs": [],
      "source": [
        "cd Mecab-ko-for-Google-Colab"
      ]
    },
    {
      "cell_type": "code",
      "execution_count": null,
      "metadata": {
        "collapsed": true,
        "id": "5rUcLbWEGFsU"
      },
      "outputs": [],
      "source": [
        "!bash install_mecab-ko_on_colab_light_220429.sh"
      ]
    },
    {
      "cell_type": "markdown",
      "metadata": {
        "id": "26qSuqNbIpiq"
      },
      "source": [
        "## (Test before using KoNLPy) -- Not Neccesary"
      ]
    },
    {
      "cell_type": "code",
      "execution_count": null,
      "metadata": {
        "id": "vTA-zty1HZ1J"
      },
      "outputs": [],
      "source": [
        "%%bash\n",
        "python3 -c \"import jpype; jpype.startJVM(convertStrings=True); print(jpype.isJVMStarted())\""
      ]
    },
    {
      "cell_type": "code",
      "execution_count": null,
      "metadata": {
        "id": "ei-S5_6ZHrYP"
      },
      "outputs": [],
      "source": [
        "%%bash\n",
        "pip3 install pytest\n",
        "TEST_DIR=$(mktemp -d -t test-XXXXXXXXXX)\n",
        "git clone https://github.com/konlpy/konlpy --depth=1 $TEST_DIR\n",
        "python3 -m pytest -v $TEST_DIR"
      ]
    },
    {
      "cell_type": "markdown",
      "metadata": {
        "id": "TX85aTLQLbIW"
      },
      "source": [
        "## Use KoNLPy Examples"
      ]
    },
    {
      "cell_type": "code",
      "execution_count": null,
      "metadata": {
        "id": "1my-kYf6LdHa"
      },
      "outputs": [],
      "source": [
        "import konlpy\n",
        "from konlpy.tag import Kkma, Komoran, Hannanum, Okt\n",
        "from konlpy.utils import pprint\n",
        "kkma = Kkma()\n",
        "komoran = Komoran()\n",
        "hannanum = Hannanum()\n",
        "okt = Okt()\n",
        "pprint(kkma.sentences(u'네, 안녕하세요. 반갑습니다.'))\n",
        "pprint(komoran.nouns(u'질문이나 건의사항은 깃헙 이슈 트래커에 남겨주세요.'))\n",
        "pprint(hannanum.pos(u'오류보고는 실행환경, 에러메세지와함께 설명을 최대한상세히!^^'))\n",
        "pprint(okt.phrases(u'구글은 멋져요. 깃허브도 멋져요. KoNLPy도 멋져요!'))"
      ]
    },
    {
      "cell_type": "code",
      "execution_count": null,
      "metadata": {
        "id": "nLFpnE9cLsod"
      },
      "outputs": [],
      "source": [
        "import konlpy\n",
        "from konlpy.utils import pprint\n",
        "from konlpy.tag import Mecab\n",
        "from konlpy.utils import pprint\n",
        "\n",
        "mecab = Mecab()\n",
        "\n",
        "text = \"삼성 갤럭시 탭 s8 울트라(6GB+256GB)스페이스블랙[자급제]\"\n",
        "mecabnouns = mecab.nouns(text)\n",
        "print(\"Mecab Nouns:\", mecabnouns)\n",
        "mecabmorphs = mecab.morphs(text)\n",
        "print(\"Mecab Morphs:\", mecabmorphs)\n",
        "\n",
        "\n",
        "# mecab.tagset"
      ]
    },
    {
      "cell_type": "markdown",
      "metadata": {
        "id": "fh5WDHYaV5QW"
      },
      "source": [
        "# Extraction Process (Read files, Extract Relevant Words)"
      ]
    },
    {
      "cell_type": "markdown",
      "source": [
        "## File Upload, Load Dependencies"
      ],
      "metadata": {
        "id": "Pe0fSlwybO5k"
      }
    },
    {
      "cell_type": "code",
      "source": [
        "import pandas as pd\n",
        "import openpyxl\n",
        "from konlpy.tag import Mecab\n",
        "from konlpy.utils import pprint\n",
        "from google.colab import files\n",
        "\n",
        "mecab = Mecab()\n",
        "df = files.upload ()\n",
        "\n",
        "\"\"\"\n",
        "Excel 파일 업로드를 해주세요.\n",
        "\n",
        "\"\"\"\n",
        "\n",
        "df = pd.read_xlsx('HOMEAPPLIANCE_COLLECTION.xlsx')\n",
        "\n",
        "\"\"\"\n",
        "Excel 파일 이름과 '일치'하게 해주세요.\n",
        "예시)\n",
        "test.xlsx 를 업로드한다면 \"df = pd.read_xlsx('test.xlsx')\"\n",
        "test.csv 를 업로드한다면 \"df = pd.read_csv('test.csv')\"\n",
        "\"\"\"\n"
      ],
      "metadata": {
        "id": "DlBYzsdqa3wR"
      },
      "execution_count": null,
      "outputs": []
    },
    {
      "cell_type": "markdown",
      "source": [
        "## Product Title\n"
      ],
      "metadata": {
        "id": "KLbna32b1bD2"
      }
    },
    {
      "cell_type": "code",
      "source": [
        "product_title = {\n",
        "                '아이폰', '갤럭시', '프로', '울트라', '맥스', '아이패드', '탭', '에어팟', '플립', '폴드', '뮤패드', 'FE'\n",
        "                '북', '맥북', 'S', 'Ultra', 'M1', 'M2', 'M3', 'M4', 'M5', 'M6', 'M7', 'M8', 'M9', 'Pro', 'ProMax',\n",
        "                'Galaxy', 'iPhone', 'iPad', 'MacBook', 'Zenbook', '그램'\n",
        "                  }\n",
        "\n",
        "product_type_dict = {\n",
        "    \"PC\" : \"IT\",\n",
        "    \"모바일\" : \"IT\",\n",
        "    \"태블릿\" : \"IT\",\n",
        "    \"노트북\" : \"IT\",\n",
        "    \"데스크탑\" : \"IT\",\n",
        "    \"NAFS\" : \"IT\",\n",
        "    \"백색\" : \"ETC\",\n",
        "    \"A/V\" : \"ETC\"\n",
        "}\n",
        "\n",
        "general_stopwords_list = [ '에듀몰', '해피투게딜', '자급제', '재고보유', '하이마트배송!', 'WQXGA +', '30만원대',\n",
        "                        '하이마트배송', '스태킹키트 포함', '스태킹키트 미포함', '한정판매', '한정수량', '온라인 전용', '1주이상소요/클리어런스', '스태킹/앵글',\n",
        "                        '셀프관리형', '신모델', '즉시배송', '신상', '앵글설치포함,별도비용발생', '하이마트 설치', '최대36개월무', '사은품 증정', '제주마지막1대', '직렬설치',\n",
        "                        '추가 다운로드 쿠폰', '국내정발', '빠른출발', '진열', '맞춤출수', '전시', '주연테크x하이메이드', '사내판매', '스태킹키트', '카드 추가',\n",
        "                        '본품', '배송지연', '6개월주기 방문관리형', '익일배송', 'UP가전', '특가', '뭉치면싸다', '1만 다운로드 쿠폰', '1주차', '발송예정', '스태킹설치',\n",
        "                        '사용안함', '스마트픽',  '미디어', '인버터', '정품OS', '단순배송', '2만원할인', '100원딜', '10대', '한정', '단독!', '단독', '추가 카드',\n",
        "                        'AppleCare+', '1주이상소요', '**',  'DDR5', 'DDR4', 'DDR6', '시력보호', '최신형', '운영', '스태이션 포함!', '추가 쿠폰', '스태킹', '앵글',\n",
        "                        '최종321만', '10대 한정판매',  '출고', '안드로이드', '배송시간 소요', '방문관리', 'i5.*?', 'i7.*?', 'win11', '20만원대', '링크!', '키트',\n",
        "                        '사은품 증정', '2주이상 소요', '동시구매행사용', '1만원할인', '할인', '신학기특가', '키트포함', '키트 포함', 'CPU', 'GPU', 'RTX', 'GTX',\n",
        "                        '각도조절형', '해피투게딜이벤트', '서랍형', '36개월케어십포함', '개별구매불가,본체만구매-자동취소', '전국무료설치', '8코어', '12코어', '16코어', '10코어',\n",
        "                        '한정수량', '단종', '소진', '특가', '포토상품평이벤트', '어메이징','3월', '4월', '5월', '6월', '7월', '2주이상소요', '3주이상소요', 'NEW', '가벼운',\n",
        "                        '8월', '9월', '10월', '11월', '12월', '1월', '2월', '행사', '1등급', '당질저감', '벽걸이조절형', '3년케어십', '초고온수', '기획전', '미포함', '포함',\n",
        "                        '음성인식', '청정바람', '자가관리', '셀프형', '6개월', '방문주기', '시크릿 !', '최대', '10%', '신모델', '공동구매', '하이마트', '1만 다운로드 쿠폰',\n",
        "                        '3개월', '창립기획', '단독모델', '스태킹설치포함', '자동먼지비움', '무빙키트' , '공기살균', '쇼핑몰', '상의5벌+하의1벌', '배송!', '외장', '외장그래픽',\n",
        "                        '전자동', '오프라인', '온라인', '전용', '6인용', '3인용', '개별구매불가 본체만구매-자동취소', '미세먼지극복', '병렬설치', '비밀', '앵글설치포함']"
      ],
      "metadata": {
        "id": "qCaRX7D71ayb"
      },
      "execution_count": null,
      "outputs": []
    },
    {
      "cell_type": "markdown",
      "source": [
        "## Definition List"
      ],
      "metadata": {
        "id": "8nJJzoW4bVqI"
      }
    },
    {
      "cell_type": "code",
      "execution_count": null,
      "metadata": {
        "id": "YKfxICKZWBCc"
      },
      "outputs": [],
      "source": [
        "# Data cleaning Def\n",
        "def cleaning_general(descriptions, stopwords):\n",
        "    cleaned_descriptions = []\n",
        "    for stopword in stopwords:\n",
        "      cleaned_description = cleaned_description.replace(stopword, '')\n",
        "\n",
        "    cleaned_descriptions.append(cleaned_description.strip())\n",
        "\n",
        "    return cleaned_descriptions\n",
        "\n",
        "# Morphs Extraction Def\n",
        "def extract_morphs(text):\n",
        "    morphs = mecab.morphs(text)\n",
        "    return ' '.join(mecabmorphs)\n",
        "\n",
        "# Title Decision\n",
        "def decision_title(morphs,title_list):\n",
        "  title = ''\n",
        "  for i, word in morphs:\n",
        "      if word in title_list:\n",
        "          title += f'{word}'\n",
        "          if morphs[i + 1].isdigit():\n",
        "              title += f'{morphs[i + 1]}'\n",
        "  return title.strip\n",
        "\n",
        "# Storage/Ram Decision\n",
        "def isdigitstorage(morphs):\n",
        "  storage = 'N/A'\n",
        "  ram = 'N/A'\n",
        "  for word in morphs:\n",
        "    if word is 128 or 256 or 512 or 1024:\n",
        "      storage = f'{word}GB'\n",
        "    elif word is 8 or 16 or 32 or 64:\n",
        "      ram = f'{word}GB'\n",
        "      return ram, storage\n",
        "  return False\n",
        "\n",
        "# Attribute 사전 단어 콜 함수\n",
        "def get_product_type(attributes, product_type_dict):\n",
        "    for key in product_type_dict.keys():\n",
        "        if key in attributes:\n",
        "            return product_type_dict[key]\n",
        "    return 'N/A'\n",
        "\n"
      ]
    }
  ],
  "metadata": {
    "colab": {
      "provenance": [],
      "authorship_tag": "ABX9TyNi5rNwqTsaZrgstjwL9Cnt",
      "include_colab_link": true
    },
    "kernelspec": {
      "display_name": "Python 3",
      "name": "python3"
    },
    "language_info": {
      "name": "python"
    }
  },
  "nbformat": 4,
  "nbformat_minor": 0
}