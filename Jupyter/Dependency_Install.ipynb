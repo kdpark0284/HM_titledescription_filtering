{
  "nbformat": 4,
  "nbformat_minor": 0,
  "metadata": {
    "colab": {
      "provenance": [],
      "authorship_tag": "ABX9TyNu62IXV/1oAQNh6VtqBJzO",
      "include_colab_link": true
    },
    "kernelspec": {
      "name": "python3",
      "display_name": "Python 3"
    },
    "language_info": {
      "name": "python"
    }
  },
  "cells": [
    {
      "cell_type": "markdown",
      "metadata": {
        "id": "view-in-github",
        "colab_type": "text"
      },
      "source": [
        "<a href=\"https://colab.research.google.com/github/kdpark0284/HM_titledescription_filtering/blob/main/Dependency_Install.ipynb\" target=\"_parent\"><img src=\"https://colab.research.google.com/assets/colab-badge.svg\" alt=\"Open In Colab\"/></a>"
      ]
    },
    {
      "cell_type": "markdown",
      "metadata": {
        "id": "qDYLTRK_Ia7t"
      },
      "source": [
        "# Start Up With Google Colab"
      ]
    },
    {
      "cell_type": "markdown",
      "metadata": {
        "id": "AbZlVXbsIjWx"
      },
      "source": [
        "## Install Dependencies"
      ]
    },
    {
      "cell_type": "code",
      "execution_count": null,
      "metadata": {
        "id": "UnUCE2weGmi_"
      },
      "outputs": [],
      "source": [
        "%%bash\n",
        "apt-get update\n",
        "apt-get install g++ openjdk-8-jdk python-dev python3-dev\n",
        "pip3 install JPype1\n",
        "pip3 install konlpy\n",
        "pip install openpyxl\n",
        "pip install rapidfuzz"
      ]
    },
    {
      "cell_type": "code",
      "execution_count": null,
      "metadata": {
        "collapsed": true,
        "id": "ebaapQPkGvqY"
      },
      "outputs": [],
      "source": [
        "%env JAVA_HOME \"/usr/lib/jvm/java-8-openjdk-amd64\""
      ]
    },
    {
      "cell_type": "markdown",
      "metadata": {
        "id": "MqjFwgcOMeT9"
      },
      "source": [
        "### Install Mecab (Takes 5min+ usually)"
      ]
    },
    {
      "cell_type": "code",
      "execution_count": null,
      "metadata": {
        "collapsed": true,
        "id": "_Ni_MNbyMdox"
      },
      "outputs": [],
      "source": [
        "! git clone https://github.com/SOMJANG/Mecab-ko-for-Google-Colab.git"
      ]
    },
    {
      "cell_type": "code",
      "execution_count": null,
      "metadata": {
        "collapsed": true,
        "id": "v5cjuboiGFDJ"
      },
      "outputs": [],
      "source": [
        "cd Mecab-ko-for-Google-Colab"
      ]
    },
    {
      "cell_type": "code",
      "execution_count": null,
      "metadata": {
        "collapsed": true,
        "id": "5rUcLbWEGFsU"
      },
      "outputs": [],
      "source": [
        "!bash install_mecab-ko_on_colab_light_220429.sh"
      ]
    },
    {
      "cell_type": "markdown",
      "metadata": {
        "id": "NdMMOX0YScuF"
      },
      "source": [
        "## Add User Dictionary for Mecab"
      ]
    },
    {
      "cell_type": "code",
      "execution_count": null,
      "metadata": {
        "id": "zCBnSR1BSk90"
      },
      "outputs": [],
      "source": [
        "cd /content/mecab-ko-dic-2.1.1-20180720"
      ]
    },
    {
      "cell_type": "code",
      "execution_count": null,
      "metadata": {
        "id": "R7yZsbUISzfA"
      },
      "outputs": [],
      "source": [
        "!pip install jamo"
      ]
    },
    {
      "cell_type": "code",
      "execution_count": null,
      "metadata": {
        "id": "-8I8UdmkS1JN"
      },
      "outputs": [],
      "source": [
        "from jamo import h2j, j2hcj\n",
        "\n",
        "\n",
        "def get_jongsung_TF(sample_text):\n",
        "    sample_text_list = list(sample_text)\n",
        "    last_word = sample_text_list[-1]\n",
        "    last_word_jamo_list = list(j2hcj(h2j(last_word)))\n",
        "    last_jamo = last_word_jamo_list[-1]\n",
        "\n",
        "    jongsung_TF = \"T\"\n",
        "\n",
        "    if last_jamo in ['ㅏ', 'ㅑ', 'ㅓ', 'ㅕ', 'ㅗ', 'ㅛ', 'ㅜ', 'ㅠ', 'ㅡ', 'ㅣ', 'ㅘ', 'ㅚ', 'ㅙ', 'ㅝ', 'ㅞ', 'ㅢ', 'ㅐ,ㅔ', 'ㅟ', 'ㅖ', 'ㅒ']:\n",
        "        jongsung_TF = \"F\"\n",
        "\n",
        "    return jongsung_TF\n",
        "\n",
        "def make_user_dic_csv(morpheme_type, word_list, user_dic_file_name):\n",
        "  file_data = []\n",
        "\n",
        "  for word, score in word_list:\n",
        "    jongsung_TF = get_jongsung_TF(word)\n",
        "\n",
        "    line = f\"{word},,,{score},{morpheme_type},*,{jongsung_TF},{word},*,*,*,*,*\\n\"\n",
        "    # 단어, left-ID, right-ID, Weight, 품사, 의미분류, 종성유무, 읽기, 타입, 첫번째품사, 마지막품사, 표현\n",
        "    # https://openuiz.blogspot.com/2018/12/mecab-ko-dic.html\n",
        "\n",
        "    file_data.append(line)\n",
        "\n",
        "  with open(\"./user-dic/user-nnp.csv\", 'w', encoding='utf-8') as f:\n",
        "    for line in file_data:\n",
        "      f.write(line)"
      ]
    },
    {
      "cell_type": "code",
      "execution_count": null,
      "metadata": {
        "id": "MswYRu27S18M"
      },
      "outputs": [],
      "source": [
        "word_list = [('1TB', 0), ('2TB', 0),  ('미패드',0), ('Wi-Fi',0), ('다크레드',0), ('스타라이트',0), ('그라파이트', 0), ('미드나이트', 0), ('블루에어', 0), ('뮤패드', 0),\n",
        "              ('미스티라일락', 0), ('보타닉그린',0), ('코튼플라워', 0),('시나모롤',0), ('그레이그린', 0), ('펄 화이트', 0),('블루', 0),('미스트 블루', 0), ('그래비티 그레이',0)]\n",
        "\n",
        "#  단어 추가 방법: ('원하는단어형태', 0) 를 대괄호 안에 넣어주세요. ( )엔 하나의 단어만 사용해주세요.\n",
        "#  Method to add a word: Insert ('desired_word_form', 0) inside the bracket. Use only one word inside the parentheses.\n",
        "#  Example) word_list = [('1TB', 0), ('2TB', 0)]\n",
        "\n",
        "make_user_dic_csv(morpheme_type=\"NNP\", word_list=word_list, user_dic_file_name='user-nnp.csv')\n",
        "\n",
        "with open(\"./user-dic/user-nnp.csv\", 'r', encoding='utf-8') as f:\n",
        "  file_new = f.readlines()\n",
        "file_new\n",
        "\n",
        "!bash autogen.sh\n",
        "!make\n",
        "!sudo make install\n",
        "!bash tools/add-userdic.sh"
      ]
    }
  ]
}